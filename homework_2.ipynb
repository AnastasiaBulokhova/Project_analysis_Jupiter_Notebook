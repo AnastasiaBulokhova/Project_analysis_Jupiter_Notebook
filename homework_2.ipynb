{
  "metadata": {
    "kernelspec": {
      "name": "python",
      "display_name": "Python (Pyodide)",
      "language": "python"
    },
    "language_info": {
      "codemirror_mode": {
        "name": "python",
        "version": 3
      },
      "file_extension": ".py",
      "mimetype": "text/x-python",
      "name": "python",
      "nbconvert_exporter": "python",
      "pygments_lexer": "ipython3",
      "version": "3.8"
    }
  },
  "nbformat_minor": 4,
  "nbformat": 4,
  "cells": [
    {
      "cell_type": "markdown",
      "source": "#### Задача 1\n\n- Скачать файл в уроке\r- \nСчитать данные с помощью panda s- \r\nВывести на экран первые 5 стр о- к\r\nПосмотреть на описание признаков и на их содержание",
      "metadata": {}
    },
    {
      "cell_type": "code",
      "source": "import pandas as pd\nimport numpy as np",
      "metadata": {
        "trusted": true
      },
      "outputs": [],
      "execution_count": 1
    },
    {
      "cell_type": "code",
      "source": "df = pd.read_csv('kc_house_data.csv', sep=',')\ndf.head()",
      "metadata": {
        "trusted": true
      },
      "outputs": [
        {
          "execution_count": 4,
          "output_type": "execute_result",
          "data": {
            "text/plain": "           id             date     price  bedrooms  bathrooms  sqft_living  \\\n0  7129300520  20141013T000000  221900.0         3       1.00         1180   \n1  6414100192  20141209T000000  538000.0         3       2.25         2570   \n2  5631500400  20150225T000000  180000.0         2       1.00          770   \n3  2487200875  20141209T000000  604000.0         4       3.00         1960   \n4  1954400510  20150218T000000  510000.0         3       2.00         1680   \n\n   sqft_lot  floors  waterfront  view  ...  grade  sqft_above  sqft_basement  \\\n0      5650     1.0           0     0  ...      7        1180              0   \n1      7242     2.0           0     0  ...      7        2170            400   \n2     10000     1.0           0     0  ...      6         770              0   \n3      5000     1.0           0     0  ...      7        1050            910   \n4      8080     1.0           0     0  ...      8        1680              0   \n\n   yr_built  yr_renovated  zipcode      lat     long  sqft_living15  \\\n0      1955             0    98178  47.5112 -122.257           1340   \n1      1951          1991    98125  47.7210 -122.319           1690   \n2      1933             0    98028  47.7379 -122.233           2720   \n3      1965             0    98136  47.5208 -122.393           1360   \n4      1987             0    98074  47.6168 -122.045           1800   \n\n   sqft_lot15  \n0        5650  \n1        7639  \n2        8062  \n3        5000  \n4        7503  \n\n[5 rows x 21 columns]",
            "text/html": "<div>\n<style scoped>\n    .dataframe tbody tr th:only-of-type {\n        vertical-align: middle;\n    }\n\n    .dataframe tbody tr th {\n        vertical-align: top;\n    }\n\n    .dataframe thead th {\n        text-align: right;\n    }\n</style>\n<table border=\"1\" class=\"dataframe\">\n  <thead>\n    <tr style=\"text-align: right;\">\n      <th></th>\n      <th>id</th>\n      <th>date</th>\n      <th>price</th>\n      <th>bedrooms</th>\n      <th>bathrooms</th>\n      <th>sqft_living</th>\n      <th>sqft_lot</th>\n      <th>floors</th>\n      <th>waterfront</th>\n      <th>view</th>\n      <th>...</th>\n      <th>grade</th>\n      <th>sqft_above</th>\n      <th>sqft_basement</th>\n      <th>yr_built</th>\n      <th>yr_renovated</th>\n      <th>zipcode</th>\n      <th>lat</th>\n      <th>long</th>\n      <th>sqft_living15</th>\n      <th>sqft_lot15</th>\n    </tr>\n  </thead>\n  <tbody>\n    <tr>\n      <th>0</th>\n      <td>7129300520</td>\n      <td>20141013T000000</td>\n      <td>221900.0</td>\n      <td>3</td>\n      <td>1.00</td>\n      <td>1180</td>\n      <td>5650</td>\n      <td>1.0</td>\n      <td>0</td>\n      <td>0</td>\n      <td>...</td>\n      <td>7</td>\n      <td>1180</td>\n      <td>0</td>\n      <td>1955</td>\n      <td>0</td>\n      <td>98178</td>\n      <td>47.5112</td>\n      <td>-122.257</td>\n      <td>1340</td>\n      <td>5650</td>\n    </tr>\n    <tr>\n      <th>1</th>\n      <td>6414100192</td>\n      <td>20141209T000000</td>\n      <td>538000.0</td>\n      <td>3</td>\n      <td>2.25</td>\n      <td>2570</td>\n      <td>7242</td>\n      <td>2.0</td>\n      <td>0</td>\n      <td>0</td>\n      <td>...</td>\n      <td>7</td>\n      <td>2170</td>\n      <td>400</td>\n      <td>1951</td>\n      <td>1991</td>\n      <td>98125</td>\n      <td>47.7210</td>\n      <td>-122.319</td>\n      <td>1690</td>\n      <td>7639</td>\n    </tr>\n    <tr>\n      <th>2</th>\n      <td>5631500400</td>\n      <td>20150225T000000</td>\n      <td>180000.0</td>\n      <td>2</td>\n      <td>1.00</td>\n      <td>770</td>\n      <td>10000</td>\n      <td>1.0</td>\n      <td>0</td>\n      <td>0</td>\n      <td>...</td>\n      <td>6</td>\n      <td>770</td>\n      <td>0</td>\n      <td>1933</td>\n      <td>0</td>\n      <td>98028</td>\n      <td>47.7379</td>\n      <td>-122.233</td>\n      <td>2720</td>\n      <td>8062</td>\n    </tr>\n    <tr>\n      <th>3</th>\n      <td>2487200875</td>\n      <td>20141209T000000</td>\n      <td>604000.0</td>\n      <td>4</td>\n      <td>3.00</td>\n      <td>1960</td>\n      <td>5000</td>\n      <td>1.0</td>\n      <td>0</td>\n      <td>0</td>\n      <td>...</td>\n      <td>7</td>\n      <td>1050</td>\n      <td>910</td>\n      <td>1965</td>\n      <td>0</td>\n      <td>98136</td>\n      <td>47.5208</td>\n      <td>-122.393</td>\n      <td>1360</td>\n      <td>5000</td>\n    </tr>\n    <tr>\n      <th>4</th>\n      <td>1954400510</td>\n      <td>20150218T000000</td>\n      <td>510000.0</td>\n      <td>3</td>\n      <td>2.00</td>\n      <td>1680</td>\n      <td>8080</td>\n      <td>1.0</td>\n      <td>0</td>\n      <td>0</td>\n      <td>...</td>\n      <td>8</td>\n      <td>1680</td>\n      <td>0</td>\n      <td>1987</td>\n      <td>0</td>\n      <td>98074</td>\n      <td>47.6168</td>\n      <td>-122.045</td>\n      <td>1800</td>\n      <td>7503</td>\n    </tr>\n  </tbody>\n</table>\n<p>5 rows × 21 columns</p>\n</div>"
          },
          "metadata": {}
        }
      ],
      "execution_count": 4
    },
    {
      "cell_type": "code",
      "source": "df.info()",
      "metadata": {
        "trusted": true
      },
      "outputs": [
        {
          "name": "stdout",
          "text": "<class 'pandas.core.frame.DataFrame'>\nRangeIndex: 21613 entries, 0 to 21612\nData columns (total 21 columns):\n #   Column         Non-Null Count  Dtype  \n---  ------         --------------  -----  \n 0   id             21613 non-null  int64  \n 1   date           21613 non-null  object \n 2   price          21613 non-null  float64\n 3   bedrooms       21613 non-null  int64  \n 4   bathrooms      21613 non-null  float64\n 5   sqft_living    21613 non-null  int64  \n 6   sqft_lot       21613 non-null  int64  \n 7   floors         21613 non-null  float64\n 8   waterfront     21613 non-null  int64  \n 9   view           21613 non-null  int64  \n 10  condition      21613 non-null  int64  \n 11  grade          21613 non-null  int64  \n 12  sqft_above     21613 non-null  int64  \n 13  sqft_basement  21613 non-null  int64  \n 14  yr_built       21613 non-null  int64  \n 15  yr_renovated   21613 non-null  int64  \n 16  zipcode        21613 non-null  int64  \n 17  lat            21613 non-null  float64\n 18  long           21613 non-null  float64\n 19  sqft_living15  21613 non-null  int64  \n 20  sqft_lot15     21613 non-null  int64  \ndtypes: float64(5), int64(15), object(1)\nmemory usage: 3.4+ MB\n",
          "output_type": "stream"
        }
      ],
      "execution_count": 5
    },
    {
      "cell_type": "markdown",
      "source": "#### Задач- а 2\n\nПроведите первичный анализ да- нных\r\nИзучите типы д- анных\r\nНайдите количество пропущенных ячеек в - данных\r\nПосчитайте основные статистики по всем признакам и поизуч- айте их\r\nПишите выводы",
      "metadata": {}
    },
    {
      "cell_type": "code",
      "source": "df.describe()",
      "metadata": {
        "trusted": true
      },
      "outputs": [
        {
          "execution_count": 7,
          "output_type": "execute_result",
          "data": {
            "text/plain": "                 id         price      bedrooms     bathrooms   sqft_living  \\\ncount  2.161300e+04  2.161300e+04  21613.000000  21613.000000  21613.000000   \nmean   4.580302e+09  5.400881e+05      3.370842      2.114757   2079.899736   \nstd    2.876566e+09  3.671272e+05      0.930062      0.770163    918.440897   \nmin    1.000102e+06  7.500000e+04      0.000000      0.000000    290.000000   \n25%    2.123049e+09  3.219500e+05      3.000000      1.750000   1427.000000   \n50%    3.904930e+09  4.500000e+05      3.000000      2.250000   1910.000000   \n75%    7.308900e+09  6.450000e+05      4.000000      2.500000   2550.000000   \nmax    9.900000e+09  7.700000e+06     33.000000      8.000000  13540.000000   \n\n           sqft_lot        floors    waterfront          view     condition  \\\ncount  2.161300e+04  21613.000000  21613.000000  21613.000000  21613.000000   \nmean   1.510697e+04      1.494309      0.007542      0.234303      3.409430   \nstd    4.142051e+04      0.539989      0.086517      0.766318      0.650743   \nmin    5.200000e+02      1.000000      0.000000      0.000000      1.000000   \n25%    5.040000e+03      1.000000      0.000000      0.000000      3.000000   \n50%    7.618000e+03      1.500000      0.000000      0.000000      3.000000   \n75%    1.068800e+04      2.000000      0.000000      0.000000      4.000000   \nmax    1.651359e+06      3.500000      1.000000      4.000000      5.000000   \n\n              grade    sqft_above  sqft_basement      yr_built  yr_renovated  \\\ncount  21613.000000  21613.000000   21613.000000  21613.000000  21613.000000   \nmean       7.656873   1788.390691     291.509045   1971.005136     84.402258   \nstd        1.175459    828.090978     442.575043     29.373411    401.679240   \nmin        1.000000    290.000000       0.000000   1900.000000      0.000000   \n25%        7.000000   1190.000000       0.000000   1951.000000      0.000000   \n50%        7.000000   1560.000000       0.000000   1975.000000      0.000000   \n75%        8.000000   2210.000000     560.000000   1997.000000      0.000000   \nmax       13.000000   9410.000000    4820.000000   2015.000000   2015.000000   \n\n            zipcode           lat          long  sqft_living15     sqft_lot15  \ncount  21613.000000  21613.000000  21613.000000   21613.000000   21613.000000  \nmean   98077.939805     47.560053   -122.213896    1986.552492   12768.455652  \nstd       53.505026      0.138564      0.140828     685.391304   27304.179631  \nmin    98001.000000     47.155900   -122.519000     399.000000     651.000000  \n25%    98033.000000     47.471000   -122.328000    1490.000000    5100.000000  \n50%    98065.000000     47.571800   -122.230000    1840.000000    7620.000000  \n75%    98118.000000     47.678000   -122.125000    2360.000000   10083.000000  \nmax    98199.000000     47.777600   -121.315000    6210.000000  871200.000000  ",
            "text/html": "<div>\n<style scoped>\n    .dataframe tbody tr th:only-of-type {\n        vertical-align: middle;\n    }\n\n    .dataframe tbody tr th {\n        vertical-align: top;\n    }\n\n    .dataframe thead th {\n        text-align: right;\n    }\n</style>\n<table border=\"1\" class=\"dataframe\">\n  <thead>\n    <tr style=\"text-align: right;\">\n      <th></th>\n      <th>id</th>\n      <th>price</th>\n      <th>bedrooms</th>\n      <th>bathrooms</th>\n      <th>sqft_living</th>\n      <th>sqft_lot</th>\n      <th>floors</th>\n      <th>waterfront</th>\n      <th>view</th>\n      <th>condition</th>\n      <th>grade</th>\n      <th>sqft_above</th>\n      <th>sqft_basement</th>\n      <th>yr_built</th>\n      <th>yr_renovated</th>\n      <th>zipcode</th>\n      <th>lat</th>\n      <th>long</th>\n      <th>sqft_living15</th>\n      <th>sqft_lot15</th>\n    </tr>\n  </thead>\n  <tbody>\n    <tr>\n      <th>count</th>\n      <td>2.161300e+04</td>\n      <td>2.161300e+04</td>\n      <td>21613.000000</td>\n      <td>21613.000000</td>\n      <td>21613.000000</td>\n      <td>2.161300e+04</td>\n      <td>21613.000000</td>\n      <td>21613.000000</td>\n      <td>21613.000000</td>\n      <td>21613.000000</td>\n      <td>21613.000000</td>\n      <td>21613.000000</td>\n      <td>21613.000000</td>\n      <td>21613.000000</td>\n      <td>21613.000000</td>\n      <td>21613.000000</td>\n      <td>21613.000000</td>\n      <td>21613.000000</td>\n      <td>21613.000000</td>\n      <td>21613.000000</td>\n    </tr>\n    <tr>\n      <th>mean</th>\n      <td>4.580302e+09</td>\n      <td>5.400881e+05</td>\n      <td>3.370842</td>\n      <td>2.114757</td>\n      <td>2079.899736</td>\n      <td>1.510697e+04</td>\n      <td>1.494309</td>\n      <td>0.007542</td>\n      <td>0.234303</td>\n      <td>3.409430</td>\n      <td>7.656873</td>\n      <td>1788.390691</td>\n      <td>291.509045</td>\n      <td>1971.005136</td>\n      <td>84.402258</td>\n      <td>98077.939805</td>\n      <td>47.560053</td>\n      <td>-122.213896</td>\n      <td>1986.552492</td>\n      <td>12768.455652</td>\n    </tr>\n    <tr>\n      <th>std</th>\n      <td>2.876566e+09</td>\n      <td>3.671272e+05</td>\n      <td>0.930062</td>\n      <td>0.770163</td>\n      <td>918.440897</td>\n      <td>4.142051e+04</td>\n      <td>0.539989</td>\n      <td>0.086517</td>\n      <td>0.766318</td>\n      <td>0.650743</td>\n      <td>1.175459</td>\n      <td>828.090978</td>\n      <td>442.575043</td>\n      <td>29.373411</td>\n      <td>401.679240</td>\n      <td>53.505026</td>\n      <td>0.138564</td>\n      <td>0.140828</td>\n      <td>685.391304</td>\n      <td>27304.179631</td>\n    </tr>\n    <tr>\n      <th>min</th>\n      <td>1.000102e+06</td>\n      <td>7.500000e+04</td>\n      <td>0.000000</td>\n      <td>0.000000</td>\n      <td>290.000000</td>\n      <td>5.200000e+02</td>\n      <td>1.000000</td>\n      <td>0.000000</td>\n      <td>0.000000</td>\n      <td>1.000000</td>\n      <td>1.000000</td>\n      <td>290.000000</td>\n      <td>0.000000</td>\n      <td>1900.000000</td>\n      <td>0.000000</td>\n      <td>98001.000000</td>\n      <td>47.155900</td>\n      <td>-122.519000</td>\n      <td>399.000000</td>\n      <td>651.000000</td>\n    </tr>\n    <tr>\n      <th>25%</th>\n      <td>2.123049e+09</td>\n      <td>3.219500e+05</td>\n      <td>3.000000</td>\n      <td>1.750000</td>\n      <td>1427.000000</td>\n      <td>5.040000e+03</td>\n      <td>1.000000</td>\n      <td>0.000000</td>\n      <td>0.000000</td>\n      <td>3.000000</td>\n      <td>7.000000</td>\n      <td>1190.000000</td>\n      <td>0.000000</td>\n      <td>1951.000000</td>\n      <td>0.000000</td>\n      <td>98033.000000</td>\n      <td>47.471000</td>\n      <td>-122.328000</td>\n      <td>1490.000000</td>\n      <td>5100.000000</td>\n    </tr>\n    <tr>\n      <th>50%</th>\n      <td>3.904930e+09</td>\n      <td>4.500000e+05</td>\n      <td>3.000000</td>\n      <td>2.250000</td>\n      <td>1910.000000</td>\n      <td>7.618000e+03</td>\n      <td>1.500000</td>\n      <td>0.000000</td>\n      <td>0.000000</td>\n      <td>3.000000</td>\n      <td>7.000000</td>\n      <td>1560.000000</td>\n      <td>0.000000</td>\n      <td>1975.000000</td>\n      <td>0.000000</td>\n      <td>98065.000000</td>\n      <td>47.571800</td>\n      <td>-122.230000</td>\n      <td>1840.000000</td>\n      <td>7620.000000</td>\n    </tr>\n    <tr>\n      <th>75%</th>\n      <td>7.308900e+09</td>\n      <td>6.450000e+05</td>\n      <td>4.000000</td>\n      <td>2.500000</td>\n      <td>2550.000000</td>\n      <td>1.068800e+04</td>\n      <td>2.000000</td>\n      <td>0.000000</td>\n      <td>0.000000</td>\n      <td>4.000000</td>\n      <td>8.000000</td>\n      <td>2210.000000</td>\n      <td>560.000000</td>\n      <td>1997.000000</td>\n      <td>0.000000</td>\n      <td>98118.000000</td>\n      <td>47.678000</td>\n      <td>-122.125000</td>\n      <td>2360.000000</td>\n      <td>10083.000000</td>\n    </tr>\n    <tr>\n      <th>max</th>\n      <td>9.900000e+09</td>\n      <td>7.700000e+06</td>\n      <td>33.000000</td>\n      <td>8.000000</td>\n      <td>13540.000000</td>\n      <td>1.651359e+06</td>\n      <td>3.500000</td>\n      <td>1.000000</td>\n      <td>4.000000</td>\n      <td>5.000000</td>\n      <td>13.000000</td>\n      <td>9410.000000</td>\n      <td>4820.000000</td>\n      <td>2015.000000</td>\n      <td>2015.000000</td>\n      <td>98199.000000</td>\n      <td>47.777600</td>\n      <td>-121.315000</td>\n      <td>6210.000000</td>\n      <td>871200.000000</td>\n    </tr>\n  </tbody>\n</table>\n</div>"
          },
          "metadata": {}
        }
      ],
      "execution_count": 7
    },
    {
      "cell_type": "code",
      "source": "df.describe(include='object')",
      "metadata": {
        "trusted": true
      },
      "outputs": [
        {
          "execution_count": 9,
          "output_type": "execute_result",
          "data": {
            "text/plain": "                   date\ncount             21613\nunique              372\ntop     20140623T000000\nfreq                142",
            "text/html": "<div>\n<style scoped>\n    .dataframe tbody tr th:only-of-type {\n        vertical-align: middle;\n    }\n\n    .dataframe tbody tr th {\n        vertical-align: top;\n    }\n\n    .dataframe thead th {\n        text-align: right;\n    }\n</style>\n<table border=\"1\" class=\"dataframe\">\n  <thead>\n    <tr style=\"text-align: right;\">\n      <th></th>\n      <th>date</th>\n    </tr>\n  </thead>\n  <tbody>\n    <tr>\n      <th>count</th>\n      <td>21613</td>\n    </tr>\n    <tr>\n      <th>unique</th>\n      <td>372</td>\n    </tr>\n    <tr>\n      <th>top</th>\n      <td>20140623T000000</td>\n    </tr>\n    <tr>\n      <th>freq</th>\n      <td>142</td>\n    </tr>\n  </tbody>\n</table>\n</div>"
          },
          "metadata": {}
        }
      ],
      "execution_count": 9
    },
    {
      "cell_type": "code",
      "source": "df[['bedrooms', 'floors']].max()",
      "metadata": {
        "trusted": true
      },
      "outputs": [
        {
          "execution_count": 14,
          "output_type": "execute_result",
          "data": {
            "text/plain": "bedrooms    33.0\nfloors       3.5\ndtype: float64"
          },
          "metadata": {}
        }
      ],
      "execution_count": 14
    },
    {
      "cell_type": "code",
      "source": "df[['bedrooms', 'floors']].min()",
      "metadata": {
        "trusted": true
      },
      "outputs": [
        {
          "execution_count": 18,
          "output_type": "execute_result",
          "data": {
            "text/plain": "bedrooms    0.0\nfloors      1.0\ndtype: float64"
          },
          "metadata": {}
        }
      ],
      "execution_count": 18
    },
    {
      "cell_type": "code",
      "source": "df[['price', 'view', 'grade']].mean()",
      "metadata": {
        "trusted": true
      },
      "outputs": [
        {
          "execution_count": 17,
          "output_type": "execute_result",
          "data": {
            "text/plain": "price    540088.141767\nview          0.234303\ngrade         7.656873\ndtype: float64"
          },
          "metadata": {}
        }
      ],
      "execution_count": 17
    },
    {
      "cell_type": "code",
      "source": "df[['price', 'view', 'grade']].max()",
      "metadata": {
        "trusted": true
      },
      "outputs": [
        {
          "execution_count": 19,
          "output_type": "execute_result",
          "data": {
            "text/plain": "price    7700000.0\nview           4.0\ngrade         13.0\ndtype: float64"
          },
          "metadata": {}
        }
      ],
      "execution_count": 19
    },
    {
      "cell_type": "code",
      "source": "df[['price', 'view', 'grade']].min()",
      "metadata": {
        "trusted": true
      },
      "outputs": [
        {
          "execution_count": 20,
          "output_type": "execute_result",
          "data": {
            "text/plain": "price    75000.0\nview         0.0\ngrade        1.0\ndtype: float64"
          },
          "metadata": {}
        }
      ],
      "execution_count": 20
    },
    {
      "cell_type": "code",
      "source": "df['waterfront'].unique()",
      "metadata": {
        "trusted": true
      },
      "outputs": [
        {
          "execution_count": 21,
          "output_type": "execute_result",
          "data": {
            "text/plain": "array([0, 1], dtype=int64)"
          },
          "metadata": {}
        }
      ],
      "execution_count": 21
    },
    {
      "cell_type": "code",
      "source": "x = df.sort_values('price', ascending=False)\nx",
      "metadata": {
        "trusted": true
      },
      "outputs": [
        {
          "execution_count": 39,
          "output_type": "execute_result",
          "data": {
            "text/plain": "               id             date      price  bedrooms  bathrooms  \\\n7252   6762700020  20141013T000000  7700000.0         6       8.00   \n3914   9808700762  20140611T000000  7062500.0         5       4.50   \n9254   9208900037  20140919T000000  6885000.0         6       7.75   \n4411   2470100110  20140804T000000  5570000.0         5       5.75   \n1448   8907500070  20150413T000000  5350000.0         5       5.00   \n...           ...              ...        ...       ...        ...   \n8274   3883800011  20141105T000000    82000.0         3       1.00   \n16198  3028200080  20150324T000000    81000.0         2       1.00   \n465    8658300340  20140523T000000    80000.0         1       0.75   \n15293    40000362  20140506T000000    78000.0         2       1.00   \n1149   3421079032  20150217T000000    75000.0         1       0.00   \n\n       sqft_living  sqft_lot  floors  waterfront  view  ...  grade  \\\n7252         12050     27600     2.5           0     3  ...     13   \n3914         10040     37325     2.0           1     2  ...     11   \n9254          9890     31374     2.0           0     4  ...     13   \n4411          9200     35069     2.0           0     0  ...     13   \n1448          8000     23985     2.0           0     4  ...     12   \n...            ...       ...     ...         ...   ...  ...    ...   \n8274           860     10426     1.0           0     0  ...      6   \n16198          730      9975     1.0           0     0  ...      5   \n465            430      5050     1.0           0     0  ...      4   \n15293          780     16344     1.0           0     0  ...      5   \n1149           670     43377     1.0           0     0  ...      3   \n\n       sqft_above  sqft_basement  yr_built  yr_renovated  zipcode      lat  \\\n7252         8570           3480      1910          1987    98102  47.6298   \n3914         7680           2360      1940          2001    98004  47.6500   \n9254         8860           1030      2001             0    98039  47.6305   \n4411         6200           3000      2001             0    98039  47.6289   \n1448         6720           1280      2009             0    98004  47.6232   \n...           ...            ...       ...           ...      ...      ...   \n8274          860              0      1954             0    98146  47.4987   \n16198         730              0      1943             0    98168  47.4808   \n465           430              0      1912             0    98014  47.6499   \n15293         780              0      1942             0    98168  47.4739   \n1149          670              0      1966             0    98022  47.2638   \n\n          long  sqft_living15  sqft_lot15  \n7252  -122.323           3940        8800  \n3914  -122.214           3930       25449  \n9254  -122.240           4540       42730  \n4411  -122.233           3560       24345  \n1448  -122.220           4600       21750  \n...        ...            ...         ...  \n8274  -122.341           1140       11250  \n16198 -122.315            860        9000  \n465   -121.909           1200        7500  \n15293 -122.280           1700       10387  \n1149  -121.906           1160       42882  \n\n[21613 rows x 21 columns]",
            "text/html": "<div>\n<style scoped>\n    .dataframe tbody tr th:only-of-type {\n        vertical-align: middle;\n    }\n\n    .dataframe tbody tr th {\n        vertical-align: top;\n    }\n\n    .dataframe thead th {\n        text-align: right;\n    }\n</style>\n<table border=\"1\" class=\"dataframe\">\n  <thead>\n    <tr style=\"text-align: right;\">\n      <th></th>\n      <th>id</th>\n      <th>date</th>\n      <th>price</th>\n      <th>bedrooms</th>\n      <th>bathrooms</th>\n      <th>sqft_living</th>\n      <th>sqft_lot</th>\n      <th>floors</th>\n      <th>waterfront</th>\n      <th>view</th>\n      <th>...</th>\n      <th>grade</th>\n      <th>sqft_above</th>\n      <th>sqft_basement</th>\n      <th>yr_built</th>\n      <th>yr_renovated</th>\n      <th>zipcode</th>\n      <th>lat</th>\n      <th>long</th>\n      <th>sqft_living15</th>\n      <th>sqft_lot15</th>\n    </tr>\n  </thead>\n  <tbody>\n    <tr>\n      <th>7252</th>\n      <td>6762700020</td>\n      <td>20141013T000000</td>\n      <td>7700000.0</td>\n      <td>6</td>\n      <td>8.00</td>\n      <td>12050</td>\n      <td>27600</td>\n      <td>2.5</td>\n      <td>0</td>\n      <td>3</td>\n      <td>...</td>\n      <td>13</td>\n      <td>8570</td>\n      <td>3480</td>\n      <td>1910</td>\n      <td>1987</td>\n      <td>98102</td>\n      <td>47.6298</td>\n      <td>-122.323</td>\n      <td>3940</td>\n      <td>8800</td>\n    </tr>\n    <tr>\n      <th>3914</th>\n      <td>9808700762</td>\n      <td>20140611T000000</td>\n      <td>7062500.0</td>\n      <td>5</td>\n      <td>4.50</td>\n      <td>10040</td>\n      <td>37325</td>\n      <td>2.0</td>\n      <td>1</td>\n      <td>2</td>\n      <td>...</td>\n      <td>11</td>\n      <td>7680</td>\n      <td>2360</td>\n      <td>1940</td>\n      <td>2001</td>\n      <td>98004</td>\n      <td>47.6500</td>\n      <td>-122.214</td>\n      <td>3930</td>\n      <td>25449</td>\n    </tr>\n    <tr>\n      <th>9254</th>\n      <td>9208900037</td>\n      <td>20140919T000000</td>\n      <td>6885000.0</td>\n      <td>6</td>\n      <td>7.75</td>\n      <td>9890</td>\n      <td>31374</td>\n      <td>2.0</td>\n      <td>0</td>\n      <td>4</td>\n      <td>...</td>\n      <td>13</td>\n      <td>8860</td>\n      <td>1030</td>\n      <td>2001</td>\n      <td>0</td>\n      <td>98039</td>\n      <td>47.6305</td>\n      <td>-122.240</td>\n      <td>4540</td>\n      <td>42730</td>\n    </tr>\n    <tr>\n      <th>4411</th>\n      <td>2470100110</td>\n      <td>20140804T000000</td>\n      <td>5570000.0</td>\n      <td>5</td>\n      <td>5.75</td>\n      <td>9200</td>\n      <td>35069</td>\n      <td>2.0</td>\n      <td>0</td>\n      <td>0</td>\n      <td>...</td>\n      <td>13</td>\n      <td>6200</td>\n      <td>3000</td>\n      <td>2001</td>\n      <td>0</td>\n      <td>98039</td>\n      <td>47.6289</td>\n      <td>-122.233</td>\n      <td>3560</td>\n      <td>24345</td>\n    </tr>\n    <tr>\n      <th>1448</th>\n      <td>8907500070</td>\n      <td>20150413T000000</td>\n      <td>5350000.0</td>\n      <td>5</td>\n      <td>5.00</td>\n      <td>8000</td>\n      <td>23985</td>\n      <td>2.0</td>\n      <td>0</td>\n      <td>4</td>\n      <td>...</td>\n      <td>12</td>\n      <td>6720</td>\n      <td>1280</td>\n      <td>2009</td>\n      <td>0</td>\n      <td>98004</td>\n      <td>47.6232</td>\n      <td>-122.220</td>\n      <td>4600</td>\n      <td>21750</td>\n    </tr>\n    <tr>\n      <th>...</th>\n      <td>...</td>\n      <td>...</td>\n      <td>...</td>\n      <td>...</td>\n      <td>...</td>\n      <td>...</td>\n      <td>...</td>\n      <td>...</td>\n      <td>...</td>\n      <td>...</td>\n      <td>...</td>\n      <td>...</td>\n      <td>...</td>\n      <td>...</td>\n      <td>...</td>\n      <td>...</td>\n      <td>...</td>\n      <td>...</td>\n      <td>...</td>\n      <td>...</td>\n      <td>...</td>\n    </tr>\n    <tr>\n      <th>8274</th>\n      <td>3883800011</td>\n      <td>20141105T000000</td>\n      <td>82000.0</td>\n      <td>3</td>\n      <td>1.00</td>\n      <td>860</td>\n      <td>10426</td>\n      <td>1.0</td>\n      <td>0</td>\n      <td>0</td>\n      <td>...</td>\n      <td>6</td>\n      <td>860</td>\n      <td>0</td>\n      <td>1954</td>\n      <td>0</td>\n      <td>98146</td>\n      <td>47.4987</td>\n      <td>-122.341</td>\n      <td>1140</td>\n      <td>11250</td>\n    </tr>\n    <tr>\n      <th>16198</th>\n      <td>3028200080</td>\n      <td>20150324T000000</td>\n      <td>81000.0</td>\n      <td>2</td>\n      <td>1.00</td>\n      <td>730</td>\n      <td>9975</td>\n      <td>1.0</td>\n      <td>0</td>\n      <td>0</td>\n      <td>...</td>\n      <td>5</td>\n      <td>730</td>\n      <td>0</td>\n      <td>1943</td>\n      <td>0</td>\n      <td>98168</td>\n      <td>47.4808</td>\n      <td>-122.315</td>\n      <td>860</td>\n      <td>9000</td>\n    </tr>\n    <tr>\n      <th>465</th>\n      <td>8658300340</td>\n      <td>20140523T000000</td>\n      <td>80000.0</td>\n      <td>1</td>\n      <td>0.75</td>\n      <td>430</td>\n      <td>5050</td>\n      <td>1.0</td>\n      <td>0</td>\n      <td>0</td>\n      <td>...</td>\n      <td>4</td>\n      <td>430</td>\n      <td>0</td>\n      <td>1912</td>\n      <td>0</td>\n      <td>98014</td>\n      <td>47.6499</td>\n      <td>-121.909</td>\n      <td>1200</td>\n      <td>7500</td>\n    </tr>\n    <tr>\n      <th>15293</th>\n      <td>40000362</td>\n      <td>20140506T000000</td>\n      <td>78000.0</td>\n      <td>2</td>\n      <td>1.00</td>\n      <td>780</td>\n      <td>16344</td>\n      <td>1.0</td>\n      <td>0</td>\n      <td>0</td>\n      <td>...</td>\n      <td>5</td>\n      <td>780</td>\n      <td>0</td>\n      <td>1942</td>\n      <td>0</td>\n      <td>98168</td>\n      <td>47.4739</td>\n      <td>-122.280</td>\n      <td>1700</td>\n      <td>10387</td>\n    </tr>\n    <tr>\n      <th>1149</th>\n      <td>3421079032</td>\n      <td>20150217T000000</td>\n      <td>75000.0</td>\n      <td>1</td>\n      <td>0.00</td>\n      <td>670</td>\n      <td>43377</td>\n      <td>1.0</td>\n      <td>0</td>\n      <td>0</td>\n      <td>...</td>\n      <td>3</td>\n      <td>670</td>\n      <td>0</td>\n      <td>1966</td>\n      <td>0</td>\n      <td>98022</td>\n      <td>47.2638</td>\n      <td>-121.906</td>\n      <td>1160</td>\n      <td>42882</td>\n    </tr>\n  </tbody>\n</table>\n<p>21613 rows × 21 columns</p>\n</div>"
          },
          "metadata": {}
        }
      ],
      "execution_count": 39
    },
    {
      "cell_type": "code",
      "source": "x = df[df['waterfront'] == 1][['price', 'bedrooms', 'waterfront', 'bathrooms']]\nx.sort_values(['price', 'bedrooms'], ascending=False).head()",
      "metadata": {
        "trusted": true
      },
      "outputs": [
        {
          "execution_count": 44,
          "output_type": "execute_result",
          "data": {
            "text/plain": "          price  bedrooms  waterfront  bathrooms\n3914  7062500.0         5           1       4.50\n1315  5300000.0         6           1       6.00\n1164  5110800.0         5           1       5.25\n8092  4668000.0         5           1       6.75\n2626  4500000.0         5           1       5.50",
            "text/html": "<div>\n<style scoped>\n    .dataframe tbody tr th:only-of-type {\n        vertical-align: middle;\n    }\n\n    .dataframe tbody tr th {\n        vertical-align: top;\n    }\n\n    .dataframe thead th {\n        text-align: right;\n    }\n</style>\n<table border=\"1\" class=\"dataframe\">\n  <thead>\n    <tr style=\"text-align: right;\">\n      <th></th>\n      <th>price</th>\n      <th>bedrooms</th>\n      <th>waterfront</th>\n      <th>bathrooms</th>\n    </tr>\n  </thead>\n  <tbody>\n    <tr>\n      <th>3914</th>\n      <td>7062500.0</td>\n      <td>5</td>\n      <td>1</td>\n      <td>4.50</td>\n    </tr>\n    <tr>\n      <th>1315</th>\n      <td>5300000.0</td>\n      <td>6</td>\n      <td>1</td>\n      <td>6.00</td>\n    </tr>\n    <tr>\n      <th>1164</th>\n      <td>5110800.0</td>\n      <td>5</td>\n      <td>1</td>\n      <td>5.25</td>\n    </tr>\n    <tr>\n      <th>8092</th>\n      <td>4668000.0</td>\n      <td>5</td>\n      <td>1</td>\n      <td>6.75</td>\n    </tr>\n    <tr>\n      <th>2626</th>\n      <td>4500000.0</td>\n      <td>5</td>\n      <td>1</td>\n      <td>5.50</td>\n    </tr>\n  </tbody>\n</table>\n</div>"
          },
          "metadata": {}
        }
      ],
      "execution_count": 44
    },
    {
      "cell_type": "markdown",
      "source": "Выводы:\n\nмакс цена - 7700000\nсредняя цена - 540088\nмин цена -  7500\nмакс кол-во спален - 33\nмин кол-во спален - 0\nмакс кол-во этажей - 3,5\nмин кол-во этажей - 1",
      "metadata": {}
    },
    {
      "cell_type": "markdown",
      "source": "#### Условие 3: 3 задача\r \nОтветьте на несколько вопросо\nв\r\n3.1 В каком диапазоне изменяются стоимости недвижимости?\r\n3.2 Какую долю в среднем занимают жилая площадь от всей площади по всем домам?\r\n3.3 Как много домов с разными этажами в данных?\r\n3.4 Насколько хорошие состояния у домов в данных?\r\n3.5 Найдите года, когда построили первый дом, когда построили последний дом в данных?",
      "metadata": {}
    },
    {
      "cell_type": "code",
      "source": "df['price'].min(), df['price'].max()",
      "metadata": {
        "trusted": true
      },
      "outputs": [
        {
          "execution_count": 46,
          "output_type": "execute_result",
          "data": {
            "text/plain": "(75000.0, 7700000.0)"
          },
          "metadata": {}
        }
      ],
      "execution_count": 46
    },
    {
      "cell_type": "code",
      "source": "df['sqft_living'].mean() * 100/ df['sqft_lot'].mean()",
      "metadata": {
        "trusted": true
      },
      "outputs": [
        {
          "execution_count": 54,
          "output_type": "execute_result",
          "data": {
            "text/plain": "13.76781757959227"
          },
          "metadata": {}
        }
      ],
      "execution_count": 54
    },
    {
      "cell_type": "code",
      "source": "df['floors'].unique()",
      "metadata": {
        "trusted": true
      },
      "outputs": [
        {
          "execution_count": 57,
          "output_type": "execute_result",
          "data": {
            "text/plain": "array([1. , 2. , 1.5, 3. , 2.5, 3.5])"
          },
          "metadata": {}
        }
      ],
      "execution_count": 57
    },
    {
      "cell_type": "code",
      "source": "df['floors'].value_counts()",
      "metadata": {
        "trusted": true
      },
      "outputs": [
        {
          "execution_count": 60,
          "output_type": "execute_result",
          "data": {
            "text/plain": "1.0    10680\n2.0     8241\n1.5     1910\n3.0      613\n2.5      161\n3.5        8\nName: floors, dtype: int64"
          },
          "metadata": {}
        }
      ],
      "execution_count": 60
    },
    {
      "cell_type": "code",
      "source": "df['condition'].value_counts()\n# состояние дома",
      "metadata": {
        "trusted": true
      },
      "outputs": [
        {
          "execution_count": 67,
          "output_type": "execute_result",
          "data": {
            "text/plain": "3    14031\n4     5679\n5     1701\n2      172\n1       30\nName: condition, dtype: int64"
          },
          "metadata": {}
        }
      ],
      "execution_count": 67
    },
    {
      "cell_type": "code",
      "source": "df['yr_built'].min(), df['yr_built'].max() ",
      "metadata": {
        "trusted": true
      },
      "outputs": [
        {
          "execution_count": 64,
          "output_type": "execute_result",
          "data": {
            "text/plain": "(1900, 2015)"
          },
          "metadata": {}
        }
      ],
      "execution_count": 64
    },
    {
      "cell_type": "markdown",
      "source": "#### Условие 4: 4 задача\r\nОтветьте на несколько вопросов\r\n\r\n4.1 Сколько в среднем стоят дома, у которых 2 спальни?\r\n4.2 Какая в среднем общая площадь домов, у которых стоимость больше 600 000?\r\n4.3 Как много домов коснулся ремонт?\r\n4.4 Насколько в среднем стоимость домов с оценкой grade домов выше 10 отличается от стоимости домов с оценкой grade меньше 4?",
      "metadata": {}
    },
    {
      "cell_type": "code",
      "source": "# 1\ndf[df['bedrooms'] == 2]['price'].mean()",
      "metadata": {
        "trusted": true
      },
      "outputs": [
        {
          "execution_count": 82,
          "output_type": "execute_result",
          "data": {
            "text/plain": "401372.681884058"
          },
          "metadata": {}
        }
      ],
      "execution_count": 82
    },
    {
      "cell_type": "code",
      "source": "# 2\ndf[df['price'] > 600000]['sqft_living'].mean()",
      "metadata": {
        "trusted": true
      },
      "outputs": [
        {
          "execution_count": 76,
          "output_type": "execute_result",
          "data": {
            "text/plain": "2895.47442455243"
          },
          "metadata": {}
        }
      ],
      "execution_count": 76
    },
    {
      "cell_type": "code",
      "source": "# 3\n# yr_renovated\ndf[df['yr_renovated'] != 0].shape[0]",
      "metadata": {
        "trusted": true
      },
      "outputs": [
        {
          "execution_count": 79,
          "output_type": "execute_result",
          "data": {
            "text/plain": "914"
          },
          "metadata": {}
        }
      ],
      "execution_count": 79
    },
    {
      "cell_type": "code",
      "source": "# 4\nx = df[df['grade'] > 10]['price'].mean()\ny = df[df['grade'] < 4]['price'].mean()\nx - y",
      "metadata": {
        "trusted": true
      },
      "outputs": [
        {
          "execution_count": 81,
          "output_type": "execute_result",
          "data": {
            "text/plain": "1488885.1175298805"
          },
          "metadata": {}
        }
      ],
      "execution_count": 81
    },
    {
      "cell_type": "markdown",
      "source": "#### Условие 5: 5 задача\n\r\nОтветьте на несколько вопросов\n\r\n5.1 Выберите дом клиенту\r\nКлиент хочет дом с видом на набережную, как минимум с тремя ванными и с подвалом. Сколько вариантов есть у клиента?\r\n5.2 Выберите дом клиенту\r\nКлиент хочет дом либо с очень красивым видом из окна, либо с видом на набережную, в очень хорошем состоянии и год постройки не меньше 1980 года. В какой ценовом диапазоне будут дома?\r\n5.3 Выберите дом клиенту\r\nКлиент хочет дом без подвала, с двумя этажами, стоимостью до 150000. Какая оценка по состоянию у таких домов в среднем?",
      "metadata": {}
    },
    {
      "cell_type": "code",
      "source": "# 1\ndf[(df['bathrooms'] > 3) & (df['sqft_basement'] > 0)].shape[0]",
      "metadata": {
        "trusted": true
      },
      "outputs": [
        {
          "execution_count": 88,
          "output_type": "execute_result",
          "data": {
            "text/plain": "1143"
          },
          "metadata": {}
        }
      ],
      "execution_count": 88
    },
    {
      "cell_type": "code",
      "source": "# 2\nx = df[\n((df['view'] == 4) |(df['waterfront'] == 1)) & \n(df['condition'] > 4) & \n(df['yr_built'] > 1980)\n]\nx['price'].min(), x['price'].max()",
      "metadata": {
        "trusted": true
      },
      "outputs": [
        {
          "execution_count": 93,
          "output_type": "execute_result",
          "data": {
            "text/plain": "(1295000.0, 3000000.0)"
          },
          "metadata": {}
        }
      ],
      "execution_count": 93
    },
    {
      "cell_type": "code",
      "source": "# 3\nx = df[\n(df['sqft_basement'] == 0) &\n(df['floors'] == 2) &\n(df['price'] < 150000)\n]\nx['condition'].mean()",
      "metadata": {
        "trusted": true
      },
      "outputs": [
        {
          "execution_count": 92,
          "output_type": "execute_result",
          "data": {
            "text/plain": "2.8333333333333335"
          },
          "metadata": {}
        }
      ],
      "execution_count": 92
    }
  ]
}